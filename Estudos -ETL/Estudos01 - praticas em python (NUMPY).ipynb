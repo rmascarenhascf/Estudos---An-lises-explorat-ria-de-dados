{
 "cells": [
  {
   "cell_type": "code",
   "execution_count": 27,
   "id": "6d950062",
   "metadata": {},
   "outputs": [
    {
     "name": "stdout",
     "output_type": "stream",
     "text": [
      "[0, 1, 2, 3, 4, 5, 6, 7, 8, 9, 10, 'iae']\n",
      "12\n",
      "iae\n"
     ]
    }
   ],
   "source": [
    "lista = list(range(0,11))\n",
    "lista.append('iae')\n",
    "print(lista)\n",
    "print(len(lista))\n",
    "print(lista[len(lista) - 1])"
   ]
  },
  {
   "cell_type": "code",
   "execution_count": 31,
   "id": "2a40fedb",
   "metadata": {},
   "outputs": [
    {
     "data": {
      "text/plain": [
       "dict_keys(['João', 'Ana', 'Pedro', 'Jéssica'])"
      ]
     },
     "execution_count": 31,
     "metadata": {},
     "output_type": "execute_result"
    }
   ],
   "source": [
    "idades = {'João': 10,\n",
    "          'Ana' : 2,\n",
    "          'Pedro': 5,\n",
    "          'Jéssica' : 9}\n",
    "idades.keys()"
   ]
  },
  {
   "cell_type": "code",
   "execution_count": 32,
   "id": "ac91a013",
   "metadata": {},
   "outputs": [],
   "source": [
    "import numpy as np"
   ]
  },
  {
   "cell_type": "code",
   "execution_count": 35,
   "id": "1963362c",
   "metadata": {},
   "outputs": [
    {
     "name": "stdout",
     "output_type": "stream",
     "text": [
      "[12 34 26 18 10]\n",
      "<class 'numpy.ndarray'>\n"
     ]
    }
   ],
   "source": [
    "mt = np.array([12,34,26,18,10])\n",
    "print(mt)\n",
    "print(type(mt))"
   ]
  },
  {
   "cell_type": "code",
   "execution_count": 40,
   "id": "8986b5b1",
   "metadata": {},
   "outputs": [
    {
     "name": "stdout",
     "output_type": "stream",
     "text": [
      "[12.2  20.11 40.56 44.64]\n",
      "<class 'numpy.ndarray'>\n",
      "[1 2 3 4 5]\n",
      "<class 'numpy.ndarray'>\n"
     ]
    }
   ],
   "source": [
    "#criando array de número inteiros com numpy\n",
    "#mt = matriz\n",
    "mtfloat = np.array([12.2, 20.11, 40.56, 44.64], dtype = np.float64)\n",
    "print(mtfloat)\n",
    "print(type(mtfloat))\n",
    "\n",
    "#criando array de números flutuantes com numpy\n",
    "mtint = np.array([1,2,3,4,5], dtype= np.int32)\n",
    "print(mtint)\n",
    "print(type(mtint))\n",
    "\n"
   ]
  },
  {
   "cell_type": "code",
   "execution_count": 42,
   "id": "e15f65bc",
   "metadata": {},
   "outputs": [
    {
     "name": "stdout",
     "output_type": "stream",
     "text": [
      "[1.2     4.      3.      6.99999]\n"
     ]
    },
    {
     "data": {
      "text/plain": [
       "array([1, 4, 3, 6])"
      ]
     },
     "execution_count": 42,
     "metadata": {},
     "output_type": "execute_result"
    }
   ],
   "source": [
    "#mudando tipos de valores nos arrays com numpy\n",
    "\n",
    "mtnew = np.array([1.2, 4.0, 3, 6.99999])\n",
    "print(mtnew)\n",
    "\n",
    "\n",
    "mtnewint = mtnew.astype(np.int32)\n",
    "mtnewint\n"
   ]
  },
  {
   "cell_type": "code",
   "execution_count": 2,
   "id": "71ec15b3",
   "metadata": {},
   "outputs": [],
   "source": [
    "import numpy as np"
   ]
  },
  {
   "cell_type": "code",
   "execution_count": 3,
   "id": "f06ad246",
   "metadata": {},
   "outputs": [
    {
     "name": "stdout",
     "output_type": "stream",
     "text": [
      "[[1 2 3]\n",
      " [4 5 6]\n",
      " [7 8 9]]\n"
     ]
    }
   ],
   "source": [
    "mt7 = np.array([[1,2,3], [4,5,6], [7,8,9]])\n",
    "print(mt7)"
   ]
  },
  {
   "cell_type": "code",
   "execution_count": 4,
   "id": "86fda727",
   "metadata": {},
   "outputs": [
    {
     "name": "stdout",
     "output_type": "stream",
     "text": [
      "[[667171472       542]\n",
      " [558084416       542]\n",
      " [667171504       542]]\n"
     ]
    }
   ],
   "source": [
    "vazio = np.empty([3,2], dtype= int)\n",
    "\n",
    "print(vazio)"
   ]
  },
  {
   "cell_type": "code",
   "execution_count": 5,
   "id": "acafe904",
   "metadata": {},
   "outputs": [
    {
     "name": "stdout",
     "output_type": "stream",
     "text": [
      "[[0. 0. 0.]\n",
      " [0. 0. 0.]\n",
      " [0. 0. 0.]\n",
      " [0. 0. 0.]]\n"
     ]
    }
   ],
   "source": [
    "zeros = np.zeros([4,3])\n",
    "print(zeros)"
   ]
  },
  {
   "cell_type": "code",
   "execution_count": 6,
   "id": "1e8de50f",
   "metadata": {},
   "outputs": [
    {
     "name": "stdout",
     "output_type": "stream",
     "text": [
      "[[1. 1. 1. 1. 1. 1. 1. 1.]\n",
      " [1. 1. 1. 1. 1. 1. 1. 1.]\n",
      " [1. 1. 1. 1. 1. 1. 1. 1.]\n",
      " [1. 1. 1. 1. 1. 1. 1. 1.]\n",
      " [1. 1. 1. 1. 1. 1. 1. 1.]]\n"
     ]
    }
   ],
   "source": [
    "um = np.ones([5,8])\n",
    "print(um)"
   ]
  },
  {
   "cell_type": "code",
   "execution_count": 7,
   "id": "4f1a88d1",
   "metadata": {},
   "outputs": [
    {
     "name": "stdout",
     "output_type": "stream",
     "text": [
      "[[1. 0. 0. 0. 0.]\n",
      " [0. 1. 0. 0. 0.]\n",
      " [0. 0. 1. 0. 0.]\n",
      " [0. 0. 0. 1. 0.]\n",
      " [0. 0. 0. 0. 1.]]\n"
     ]
    }
   ],
   "source": [
    "diagonal = np.eye(5)\n",
    "print(diagonal)"
   ]
  },
  {
   "cell_type": "code",
   "execution_count": 11,
   "id": "6d086776",
   "metadata": {},
   "outputs": [
    {
     "name": "stdout",
     "output_type": "stream",
     "text": [
      "[[7.71943416 4.5216899  5.19352668 5.07462897 9.24011839 8.78800444]\n",
      " [7.95460105 2.97167204 1.48851481 1.63311904 3.5047446  7.4592522 ]]\n"
     ]
    }
   ],
   "source": [
    "ale = 10* np.random.random((2,6))\n",
    "print(ale)"
   ]
  },
  {
   "cell_type": "code",
   "execution_count": 13,
   "id": "75d74329",
   "metadata": {},
   "outputs": [
    {
     "name": "stdout",
     "output_type": "stream",
     "text": [
      "[0.79617704 0.16470115 0.56795768 1.49948256 0.45765776]\n"
     ]
    }
   ],
   "source": [
    "ale2 = np.random.randn((5))\n",
    "print(ale2)"
   ]
  },
  {
   "cell_type": "code",
   "execution_count": 17,
   "id": "3796ace0",
   "metadata": {},
   "outputs": [
    {
     "name": "stdout",
     "output_type": "stream",
     "text": [
      "[0.51182162 0.9504637  0.14415961]\n"
     ]
    }
   ],
   "source": [
    "#uso de semente\n",
    "gnr = np.random.default_rng(1)\n",
    "\n",
    "ale5 = gnr.random(3)\n",
    "print(ale5)"
   ]
  },
  {
   "cell_type": "code",
   "execution_count": 27,
   "id": "fa159d21",
   "metadata": {},
   "outputs": [
    {
     "name": "stdout",
     "output_type": "stream",
     "text": [
      "[[28 30 45]\n",
      " [57  2  8]\n",
      " [49 56 14]]\n"
     ]
    }
   ],
   "source": [
    "gnr = np.random.default_rng(1)\n",
    "\n",
    "ale6 = gnr.integers(60, size=(3,3))\n",
    "print(ale6)\n"
   ]
  },
  {
   "cell_type": "code",
   "execution_count": 29,
   "id": "1b6e7451",
   "metadata": {},
   "outputs": [
    {
     "name": "stdout",
     "output_type": "stream",
     "text": [
      "[  1   2   3   4   7   8   9  10  11  25  33  44  45  68 111]\n"
     ]
    }
   ],
   "source": [
    "#remover repetições nas arrays\n",
    "\n",
    "j = np.array([1,1,2,2,33,3,4,44,44,7,8,9,10,10,111,111,111,11,1,25,68,45])\n",
    "j = np.unique(j)\n",
    "print(j)"
   ]
  },
  {
   "cell_type": "code",
   "execution_count": 37,
   "id": "2cbce0bf",
   "metadata": {},
   "outputs": [
    {
     "name": "stdout",
     "output_type": "stream",
     "text": [
      "[[1 2 3]\n",
      " [4 5 6]\n",
      " [7 8 9]]\n",
      "----------------\n",
      "8\n",
      "----------------\n",
      "(3, 3)\n"
     ]
    }
   ],
   "source": [
    "k = np.array([[1,2,3],[4,5,6],[7,8,9]])\n",
    "print(k)\n",
    "print('----------------')\n",
    "print(k[2][1])\n",
    "print('----------------')\n",
    "print(k.shape)"
   ]
  },
  {
   "cell_type": "code",
   "execution_count": 42,
   "id": "72282b52",
   "metadata": {},
   "outputs": [
    {
     "name": "stdout",
     "output_type": "stream",
     "text": [
      "[ 1  2  3  4  5  6  7  8  9 10]\n",
      "----------------\n",
      "3\n",
      "----------------\n",
      "[1 2 3 4]\n",
      "----------------\n",
      "[ 5  6  7  8  9 10]\n",
      "----------------\n",
      "8\n"
     ]
    }
   ],
   "source": [
    "#funcoes matematicas\n",
    "m = np.array([1,2,3,4,5,6,7,8,9,10])\n",
    "print(m)\n",
    "print('----------------')\n",
    "print(m[2])\n",
    "print('----------------')\n",
    "print(m[0:4])\n",
    "print('----------------')\n",
    "print(m[4:])\n",
    "print('----------------')\n",
    "print(m[-3])"
   ]
  },
  {
   "cell_type": "code",
   "execution_count": 46,
   "id": "4d82b195",
   "metadata": {},
   "outputs": [
    {
     "name": "stdout",
     "output_type": "stream",
     "text": [
      "[[1 2]\n",
      " [4 6]\n",
      " [7 9]]\n",
      "----------------\n",
      "[1 2]\n"
     ]
    }
   ],
   "source": [
    "l = np.array([[1,2], [4,6], [7,9]])\n",
    "print(l)\n",
    "print('----------------')\n",
    "l_linha_1 = l[0, :]\n",
    "print(l_linha_1)"
   ]
  },
  {
   "cell_type": "code",
   "execution_count": 49,
   "id": "8da15cc2",
   "metadata": {},
   "outputs": [
    {
     "name": "stdout",
     "output_type": "stream",
     "text": [
      "[[2 3]\n",
      " [5 7]]\n",
      "_________\n",
      "[[ 2  4]\n",
      " [ 6 10]]\n",
      "_________\n"
     ]
    }
   ],
   "source": [
    "#adição e multiplicação de matrizes\n",
    "\n",
    "a = np.array([[1,2], [3,5]])\n",
    "b = np.array([[1,1], [2,2]])\n",
    "resultado1 = a + b\n",
    "print(resultado1)\n",
    "print('_________')\n",
    "resultado2 = a * 2\n",
    "print(resultado2)\n",
    "print('_________')"
   ]
  },
  {
   "cell_type": "code",
   "execution_count": 53,
   "id": "83740473",
   "metadata": {},
   "outputs": [
    {
     "name": "stdout",
     "output_type": "stream",
     "text": [
      "[[-2.01758726 -1.11605943  2.08606285  0.83955908]\n",
      " [-0.19212188  0.29502719  0.44401251  0.87353141]\n",
      " [-0.39212163 -0.57545686  0.69088102 -0.36308107]\n",
      " [ 1.41120987  1.28997813  0.03357405  1.4911931 ]]\n",
      "            \n",
      "[[False False  True  True]\n",
      " [False  True  True  True]\n",
      " [False False  True False]\n",
      " [ True  True  True  True]]\n",
      "            \n",
      "[[-1 -1  1  1]\n",
      " [-1  1  1  1]\n",
      " [-1 -1  1 -1]\n",
      " [ 1  1  1  1]]\n"
     ]
    }
   ],
   "source": [
    "v = np.random.randn(4,4)\n",
    "print(v)\n",
    "x = v > 0\n",
    "print('            ')\n",
    "print(x)\n",
    "print('            ')\n",
    "z = np.where(x > 0, 1, -1)\n",
    "print(z)\n"
   ]
  }
 ],
 "metadata": {
  "kernelspec": {
   "display_name": "Python 3 (ipykernel)",
   "language": "python",
   "name": "python3"
  },
  "language_info": {
   "codemirror_mode": {
    "name": "ipython",
    "version": 3
   },
   "file_extension": ".py",
   "mimetype": "text/x-python",
   "name": "python",
   "nbconvert_exporter": "python",
   "pygments_lexer": "ipython3",
   "version": "3.11.5"
  }
 },
 "nbformat": 4,
 "nbformat_minor": 5
}
